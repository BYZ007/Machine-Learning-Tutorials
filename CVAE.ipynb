{
 "cells": [
  {
   "cell_type": "markdown",
   "metadata": {},
   "source": [
    "This is a tutorial for conditional variational encoders"
   ]
  },
  {
   "cell_type": "code",
   "execution_count": 1,
   "metadata": {},
   "outputs": [],
   "source": [
    "import tensorflow as tf\n",
    "from tensorflow.keras import layers, Model\n",
    "import matplotlib.pyplot as plt\n",
    "import numpy as np\n",
    "import datetime\n",
    "import tensorboard as tb\n",
    "import time\n",
    "%load_ext tensorboard"
   ]
  },
  {
   "cell_type": "markdown",
   "metadata": {},
   "source": [
    "download the training data from keras"
   ]
  },
  {
   "cell_type": "code",
   "execution_count": 2,
   "metadata": {},
   "outputs": [],
   "source": [
    "(images,labels),(_,_)=tf.keras.datasets.mnist.load_data()"
   ]
  },
  {
   "cell_type": "markdown",
   "metadata": {},
   "source": [
    "preprocessing the input images involves normalizing and binarizing the images, as well as adding the additional channel dimension as Conv2D takes 4 dimensional tensors as inputs."
   ]
  },
  {
   "cell_type": "code",
   "execution_count": 3,
   "metadata": {},
   "outputs": [],
   "source": [
    "def preprocess_images(images):\n",
    "    images = images.astype('float32')\n",
    "    images/=255\n",
    "    images[images>=0.5]=1.0\n",
    "    images[images<0.5]=0.0\n",
    "    images = tf.expand_dims(images,axis = -1)\n",
    "    return images"
   ]
  },
  {
   "cell_type": "markdown",
   "metadata": {},
   "source": [
    "Preprocss the training images and create one hot encodings for the labels"
   ]
  },
  {
   "cell_type": "code",
   "execution_count": 4,
   "metadata": {},
   "outputs": [],
   "source": [
    "images = preprocess_images(images)\n",
    "one_hot_labels = np.eye(10)[labels].astype('float32')"
   ]
  },
  {
   "cell_type": "markdown",
   "metadata": {},
   "source": [
    "create and batch our dataset, a larger batch size is desired since we want to increase the accuracy of expectation approximation"
   ]
  },
  {
   "cell_type": "code",
   "execution_count": 5,
   "metadata": {},
   "outputs": [],
   "source": [
    "dataset = tf.data.Dataset.from_tensor_slices((images,one_hot_labels)).shuffle(10000).batch(100)"
   ]
  },
  {
   "cell_type": "markdown",
   "metadata": {},
   "source": [
    "checking to see if the batched data makes sense"
   ]
  },
  {
   "cell_type": "code",
   "execution_count": 6,
   "metadata": {},
   "outputs": [
    {
     "data": {
      "image/png": "[encoded data removed]",
      "text/plain": [
       "<Figure size 432x288 with 3 Axes>"
      ]
     },
     "metadata": {
      "needs_background": "light"
     },
     "output_type": "display_data"
    }
   ],
   "source": [
    "iterator = iter(dataset)\n",
    "sample_image, sample_label = next(iterator)\n",
    "\n",
    "for i in range(3):\n",
    "    choice = np.random.choice(100)\n",
    "    ax = plt.subplot(3,1,i+1)\n",
    "    plt.subplots_adjust(hspace = 1)\n",
    "    ax.set_title(\"sample {}:\\n {}\".format(i+1,np.array(sample_label[choice])))\n",
    "    plt.imshow(tf.squeeze(sample_image[choice]),cmap='gray')\n",
    "    plt.axis('off')"
   ]
  },
  {
   "cell_type": "markdown",
   "metadata": {},
   "source": [
    "The enocder $q_{\\phi}(z|x_i)$ maps each instance of data $x_i$ onto a instance of $z$ the latent space\n",
    "The input is the training image and the output is a (batchsize,latent_dim x 2) shaped tensor which will then be split into the $\\mu$ and $\\sigma^2$ values for reparametization."
   ]
  },
  {
   "cell_type": "code",
   "execution_count": 7,
   "metadata": {},
   "outputs": [],
   "source": [
    "latent_dim = 50\n",
    "n_filters = 32"
   ]
  },
  {
   "cell_type": "code",
   "execution_count": 8,
   "metadata": {},
   "outputs": [],
   "source": [
    "class Encoder(Model):\n",
    "    def __init__(self,n_filters,latent_dim):\n",
    "        super(Encoder,self).__init__()\n",
    "        # input shape = (100,28,28,1) target output shape = (100,50+50)\n",
    "        self.conv1 = layers.Conv2D(n_filters,kernel_size = (3,3),strides = 2,padding = 'SAME',activation = 'sigmoid')\n",
    "        self.conv2 = layers.Conv2D(n_filters*2,kernel_size = (3,3),strides = 2,padding = 'SAME',activation = 'sigmoid')\n",
    "        self.flat = layers.Flatten()\n",
    "        self.encoding = layers.Dense(latent_dim*2)\n",
    "\n",
    "    def call(self,inputs):\n",
    "        x = self.conv1(inputs)\n",
    "        x = self.conv2(x)\n",
    "        x = self.flat(x)\n",
    "        x = self.encoding(x)\n",
    "        return x"
   ]
  },
  {
   "cell_type": "markdown",
   "metadata": {},
   "source": [
    "The classifer predicts the class that the input images belong to. The predicted class will be concatenated to the latent vector to allow the conditioning of the latent variable $z$ when we want to generate images of a specific class via the decoder. "
   ]
  },
  {
   "cell_type": "code",
   "execution_count": 9,
   "metadata": {},
   "outputs": [],
   "source": [
    "class Classifier(Model):\n",
    "    def __init__(self,n_filters):\n",
    "        super(Classifier,self).__init__()\n",
    "        # input shape = (100,28,28,1) target output shape = (100,10)\n",
    "        self.conv1 = layers.Conv2D(n_filters,kernel_size = 3,strides = (2,2),padding = 'SAME',activation = 'sigmoid')\n",
    "        self.conv2 = layers.Conv2D(n_filters*2,kernel_size = 3,strides = (2,2),padding = 'SAME',activation = 'sigmoid')\n",
    "        self.flat = layers.Flatten()\n",
    "        self.class_prediction = layers.Dense(10,activation='softmax')\n",
    "\n",
    "    def call(self,inputs):\n",
    "        x = self.conv1(inputs)\n",
    "        x = self.conv2(x)\n",
    "        x = self.flat(x)\n",
    "        x = self.class_prediction(x)\n",
    "        return x"
   ]
  },
  {
   "cell_type": "markdown",
   "metadata": {},
   "source": [
    "The decoder $p_{\\theta}(x|z)$ takes the encoded latent vector and generate an image by sampling from $z$. Again reparameterization is required to properly train the decoder jointly with the encoder."
   ]
  },
  {
   "cell_type": "code",
   "execution_count": 10,
   "metadata": {},
   "outputs": [],
   "source": [
    "class Decoder(Model):\n",
    "    def __init__(self,n_filters):\n",
    "        super(Decoder,self).__init__()\n",
    "        # input shape = (100,60) target output shape = (100,28,28,1)\n",
    "        self.dense1 = layers.Dense(7*7*32,activation = 'relu')\n",
    "        self.reshape = layers.Reshape((7,7,32))\n",
    "        self.conv1 = layers.Conv2DTranspose(n_filters*2,kernel_size = 3,strides = (2,2),padding = 'SAME',activation = 'sigmoid')\n",
    "        self.conv2 = layers.Conv2DTranspose(n_filters,kernel_size = 3,strides = (2,2),padding = 'SAME',activation = 'sigmoid')\n",
    "        self.generated_image = layers.Conv2DTranspose(1,kernel_size = 3,strides = (1,1),padding = 'SAME')\n",
    "\n",
    "    def call(self,inputs):\n",
    "        x = self.dense1(inputs)\n",
    "        x = self.reshape(x)\n",
    "        x = self.conv1(x)\n",
    "        x = self.conv2(x)\n",
    "        x = self.generated_image(x)\n",
    "        return x"
   ]
  },
  {
   "cell_type": "markdown",
   "metadata": {},
   "source": [
    "To ensure that the gradients from the decoder passes through to update the encoder, we need to reparameterize the latent variable z as:\n",
    "\\begin{align}\n",
    "z = \\mu+\\sigma^2x\\\\\n",
    "\\end{align}\n",
    "where x is sampled from a normal distribution with $\\mu = 0, \\sigma^2 = 1$ and $\\mu, \\sigma$ are outputs from the encoder."
   ]
  },
  {
   "cell_type": "code",
   "execution_count": 11,
   "metadata": {},
   "outputs": [],
   "source": [
    "def Reparameterize(mean,logvar,noise,training = True):\n",
    "    # image_encoding = (100,100), predicted_label = (100,10), noise = (100,50)\n",
    "    # target shape = (100,60)\n",
    "    \n",
    "    if training:\n",
    "        z=noise*tf.exp(logvar * 0.5)+mean\n",
    "    else:\n",
    "        z = noise\n",
    "    return z"
   ]
  },
  {
   "cell_type": "markdown",
   "metadata": {},
   "source": [
    "The normal pdf is given as:\n",
    "\\begin{align}\n",
    "f(x|\\mu\\sigma^2) = \\frac{e^{\\frac{-(x-\\mu)^2}{2\\sigma^2}}}{\\sqrt{2\\pi\\sigma^2}}\\\\\n",
    "\\end{align}\n",
    "By Taking the log of the above pdf function:\n",
    "\\begin{align}\n",
    "log\\hspace{0.1cm}f = -\\frac{1}{2}(\\frac{(x-\\mu)^2}{\\sigma^2}+log\\hspace{0.1cm}2\\pi+log\\hspace{0.1cm}\\sigma^2)\\\\\n",
    "\\end{align}\n",
    "And since we have taken the output of the encoder to be $\\mu$ and $log var$ for stability purposes, our equation becomes:\n",
    "\\begin{align}\n",
    "log\\hspace{0.1cm}f = -\\frac{1}{2}(\\frac{(x-\\mu)^2}{e^{logvar}}+log\\hspace{0.1cm}2\\pi+logvar)\\\\\n",
    "\\end{align}"
   ]
  },
  {
   "cell_type": "code",
   "execution_count": 12,
   "metadata": {},
   "outputs": [],
   "source": [
    "def logPDF(mean,logvar,z):\n",
    "    logf = -0.5*((z-mean)**2/tf.math.exp(logvar)+tf.math.log(2*np.pi))\n",
    "    return logf"
   ]
  },
  {
   "cell_type": "markdown",
   "metadata": {},
   "source": [
    "The loss function is the negative of the ELBO:\n",
    "\\begin{align}\n",
    "ELBO = E_{z\\sim q_{\\phi}(z)}log\\hspace{0.1cm}p(z)+log\\hspace{0.1cm}p_{\\theta}(x|z)-log\\hspace{0.1cm}q_{\\phi}(z)\\\\\n",
    "\\end{align}\n",
    "Where $$log\\hspace{0.1cm}p(z)$$ is the $log\\hspace{0.1cm}f$ of the normal distribution with $\\mu=0, \\sigma^2=1$,\n",
    "$$log\\hspace{0.1cm}q_{\\phi}(z)$$ is the $log\\hspace{0.1cm}f$ of the latent cluster generated by the encoder $q_{\\phi}(z)$\n",
    "and $$log\\hspace{0.1cm}p_{\\theta}(x|z)$$ is simply the log of the reconstruction loss\n",
    "In the case of conditional VAEs we can add the classifier cross entropy loss in addition to the above losses\n",
    "\n",
    "In practice the expectation is taken via MCMC sampling in the form of batched data, which means we can benifit from larger batches and we need to take the mean of the losses as a measure of our approximate expectations. This is a very natrual thing to do in tensorflow. "
   ]
  },
  {
   "cell_type": "code",
   "execution_count": 13,
   "metadata": {},
   "outputs": [],
   "source": [
    "def LossFunction(z,mean,logvar,generated_image,predicted_label,true_label,input_image,cls_weight = 10.0):\n",
    "    logpz = tf.reduce_sum(logPDF(0.0,0.0,z),axis = -1)\n",
    "    logqz = tf.reduce_sum(logPDF(mean,logvar,z),axis = -1)\n",
    "    logpxz = -tf.reduce_sum(tf.nn.sigmoid_cross_entropy_with_logits(labels = input_image,logits = generated_image), \n",
    "                           axis = [1,2,3])\n",
    "    class_loss = tf.keras.losses.CategoricalCrossentropy()(true_label,predicted_label)\n",
    "    \n",
    "    total_loss = tf.reduce_mean(-logpz-logpxz+logqz)+cls_weight*class_loss\n",
    "    return total_loss"
   ]
  },
  {
   "cell_type": "markdown",
   "metadata": {},
   "source": [
    "Lets bring the previously defined model together under one one umbrella; we'll call this model CVAE. We will also create a method for the CVAE that would also allow us to generate specific samples from the latent space $z$."
   ]
  },
  {
   "cell_type": "code",
   "execution_count": 14,
   "metadata": {},
   "outputs": [],
   "source": [
    "class CVAE(Model):\n",
    "    def __init__(self,n_filters,latent_dim):\n",
    "        super(CVAE,self).__init__()\n",
    "        self.encoder = Encoder(n_filters,latent_dim)\n",
    "        self.decoder = Decoder(n_filters)\n",
    "        self.classifier = Classifier(n_filters)\n",
    "    \n",
    "    def generate(self,numbers,save = True, image_name = None):\n",
    "        labels = np.eye(10)[numbers].astype('float32')\n",
    "        noise = tf.random.normal(shape = (len(numbers),50))\n",
    "        conditioned_z = tf.concat([noise,labels],axis = -1)\n",
    "        generated_samples = tf.nn.sigmoid(self.decoder(conditioned_z))\n",
    "\n",
    "        fig = plt.figure(figsize=(4,4))\n",
    "        for i in range(len(numbers)):\n",
    "            plt.subplot(4, 4, i+1)\n",
    "            plt.imshow(tf.squeeze(generated_samples[i]), cmap='gray')\n",
    "            plt.axis('off')\n",
    "        \n",
    "        if save:\n",
    "            plt.savefig(image_name)\n",
    "            plt.show()\n",
    "        return generated_samples\n",
    "    \n",
    "    def call(self,training_images,training = True):\n",
    "        x = self.encoder(training_images)\n",
    "        mean = x[:,:50]\n",
    "        logvar = x[:,50::]\n",
    "        predicted_label = self.classifier(training_images)\n",
    "        noise = tf.random.normal(shape = (100,50))\n",
    "        z = Reparameterize(mean,logvar,noise)\n",
    "        conditioned_z = tf.concat([z,predicted_label],axis = -1)\n",
    "        generated_image = self.decoder(conditioned_z)\n",
    "        return z,mean,logvar,generated_image,predicted_label"
   ]
  },
  {
   "cell_type": "code",
   "execution_count": 15,
   "metadata": {},
   "outputs": [],
   "source": [
    "optimizer = tf.keras.optimizers.Adam(1e-4)\n",
    "cvae = CVAE(n_filters,latent_dim)\n",
    "train_loss = tf.keras.metrics.Mean('train_loss', dtype=tf.float32)\n",
    "\n",
    "@tf.function\n",
    "def train_step(image,label):\n",
    "    with tf.GradientTape() as tape:\n",
    "        z,mean,logvar,generated_image,predicted_label = cvae(image)\n",
    "        loss = LossFunction(z,mean,logvar,generated_image,predicted_label,label,image)\n",
    "        \n",
    "    gradients = tape.gradient(loss,cvae.trainable_variables)\n",
    "    optimizer.apply_gradients(zip(gradients,cvae.trainable_variables))\n",
    "    \n",
    "    train_loss(loss)"
   ]
  },
  {
   "cell_type": "code",
   "execution_count": 16,
   "metadata": {},
   "outputs": [],
   "source": [
    "current_time = datetime.datetime.now().strftime(\"%Y%m%d-%H%M%S\")\n",
    "train_log_dir = 'logs/gradient_tape/' + current_time + '/train'\n",
    "train_summary_writer = tf.summary.create_file_writer(train_log_dir)"
   ]
  },
  {
   "cell_type": "code",
   "execution_count": 17,
   "metadata": {},
   "outputs": [
    {
     "name": "stdout",
     "output_type": "stream",
     "text": [
      "training loss epoch 1: 283.0182189941406\n",
      "training loss epoch 2: 203.65635681152344\n",
      "training loss epoch 3: 134.06314086914062\n",
      "training loss epoch 4: 84.8983383178711\n",
      "training loss epoch 5: 66.2369155883789\n",
      "training loss epoch 6: 55.496036529541016\n",
      "training loss epoch 7: 47.856956481933594\n",
      "training loss epoch 8: 41.93791961669922\n",
      "training loss epoch 9: 37.244083404541016\n",
      "training loss epoch 10: 33.450164794921875\n",
      "Sample generated epoch10.\n",
      " Average time per epoch: 4.544811129570007\n"
     ]
    },
    {
     "data": {
      "image/png": "[encoded data removed]",
      "text/plain": [
       "<Figure size 288x288 with 10 Axes>"
      ]
     },
     "metadata": {
      "needs_background": "light"
     },
     "output_type": "display_data"
    },
    {
     "name": "stdout",
     "output_type": "stream",
     "text": [
      "training loss epoch 11: 30.442493438720703\n",
      "training loss epoch 12: 27.674625396728516\n",
      "training loss epoch 13: 25.46893310546875\n",
      "training loss epoch 14: 23.40621566772461\n",
      "training loss epoch 15: 21.645498275756836\n",
      "training loss epoch 16: 20.14805030822754\n",
      "training loss epoch 17: 18.628334045410156\n",
      "training loss epoch 18: 17.234275817871094\n",
      "training loss epoch 19: 15.998090744018555\n",
      "training loss epoch 20: 14.911256790161133\n",
      "Sample generated epoch20.\n",
      " Average time per epoch: 4.834554076194763\n"
     ]
    },
    {
     "data": {
      "image/png": "[encoded data removed]",
      "text/plain": [
       "<Figure size 288x288 with 10 Axes>"
      ]
     },
     "metadata": {
      "needs_background": "light"
     },
     "output_type": "display_data"
    },
    {
     "name": "stdout",
     "output_type": "stream",
     "text": [
      "training loss epoch 21: 13.880159378051758\n",
      "training loss epoch 22: 12.895854949951172\n",
      "training loss epoch 23: 11.907121658325195\n",
      "training loss epoch 24: 11.034451484680176\n",
      "training loss epoch 25: 10.754042625427246\n",
      "training loss epoch 26: 9.982824325561523\n",
      "training loss epoch 27: 9.5271635055542\n",
      "training loss epoch 28: 9.112024307250977\n",
      "training loss epoch 29: 9.640050888061523\n",
      "training loss epoch 30: 10.448416709899902\n",
      "Sample generated epoch30.\n",
      " Average time per epoch: 4.298808455467224\n"
     ]
    },
    {
     "data": {
      "image/png": "[encoded data removed]",
      "text/plain": [
       "<Figure size 288x288 with 10 Axes>"
      ]
     },
     "metadata": {
      "needs_background": "light"
     },
     "output_type": "display_data"
    },
    {
     "name": "stdout",
     "output_type": "stream",
     "text": [
      "training loss epoch 31: 10.375163078308105\n",
      "training loss epoch 32: 9.794407844543457\n",
      "training loss epoch 33: 9.297913551330566\n",
      "training loss epoch 34: 10.617035865783691\n",
      "training loss epoch 35: 11.543299674987793\n",
      "training loss epoch 36: 11.616263389587402\n",
      "training loss epoch 37: 11.4186429977417\n",
      "training loss epoch 38: 11.822399139404297\n",
      "training loss epoch 39: 11.9124755859375\n",
      "training loss epoch 40: 11.815019607543945\n",
      "Sample generated epoch40.\n",
      " Average time per epoch: 4.528384947776795\n"
     ]
    },
    {
     "data": {
      "image/png": "[encoded data removed]",
      "text/plain": [
       "<Figure size 288x288 with 10 Axes>"
      ]
     },
     "metadata": {
      "needs_background": "light"
     },
     "output_type": "display_data"
    },
    {
     "name": "stdout",
     "output_type": "stream",
     "text": [
      "training loss epoch 41: 12.598308563232422\n",
      "training loss epoch 42: 13.067091941833496\n",
      "training loss epoch 43: 13.45019245147705\n",
      "training loss epoch 44: 14.040361404418945\n",
      "training loss epoch 45: 14.581123352050781\n",
      "training loss epoch 46: 14.690970420837402\n",
      "training loss epoch 47: 14.4856538772583\n",
      "training loss epoch 48: 14.424822807312012\n",
      "training loss epoch 49: 15.091423988342285\n",
      "training loss epoch 50: 15.623136520385742\n",
      "Sample generated epoch50.\n",
      " Average time per epoch: 4.276216125488281\n"
     ]
    },
    {
     "data": {
      "image/png": "[encoded data removed]",
      "text/plain": [
       "<Figure size 288x288 with 10 Axes>"
      ]
     },
     "metadata": {
      "needs_background": "light"
     },
     "output_type": "display_data"
    },
    {
     "name": "stdout",
     "output_type": "stream",
     "text": [
      "training loss epoch 51: 15.4925537109375\n",
      "training loss epoch 52: 15.246261596679688\n",
      "training loss epoch 53: 15.388038635253906\n",
      "training loss epoch 54: 15.356736183166504\n",
      "training loss epoch 55: 15.128588676452637\n",
      "training loss epoch 56: 14.905519485473633\n",
      "training loss epoch 57: 14.75200366973877\n",
      "training loss epoch 58: 14.54460620880127\n",
      "training loss epoch 59: 14.389457702636719\n",
      "training loss epoch 60: 14.632140159606934\n",
      "Sample generated epoch60.\n",
      " Average time per epoch: 4.262491393089294\n"
     ]
    },
    {
     "data": {
      "image/png": "[encoded data removed]",
      "text/plain": [
       "<Figure size 288x288 with 10 Axes>"
      ]
     },
     "metadata": {
      "needs_background": "light"
     },
     "output_type": "display_data"
    },
    {
     "name": "stdout",
     "output_type": "stream",
     "text": [
      "training loss epoch 61: 14.504009246826172\n",
      "training loss epoch 62: 14.42588996887207\n",
      "training loss epoch 63: 14.535921096801758\n",
      "training loss epoch 64: 15.636216163635254\n",
      "training loss epoch 65: 15.912850379943848\n",
      "training loss epoch 66: 15.798235893249512\n",
      "training loss epoch 67: 15.792553901672363\n",
      "training loss epoch 68: 16.0272274017334\n",
      "training loss epoch 69: 15.905779838562012\n",
      "training loss epoch 70: 15.781917572021484\n",
      "Sample generated epoch70.\n",
      " Average time per epoch: 4.311218523979187\n"
     ]
    },
    {
     "data": {
      "image/png": "[encoded data removed]",
      "text/plain": [
       "<Figure size 288x288 with 10 Axes>"
      ]
     },
     "metadata": {
      "needs_background": "light"
     },
     "output_type": "display_data"
    },
    {
     "name": "stdout",
     "output_type": "stream",
     "text": [
      "training loss epoch 71: 15.63541030883789\n",
      "training loss epoch 72: 15.49319839477539\n",
      "training loss epoch 73: 15.429360389709473\n",
      "training loss epoch 74: 15.619359970092773\n",
      "training loss epoch 75: 15.717535972595215\n",
      "training loss epoch 76: 16.060579299926758\n",
      "training loss epoch 77: 15.933752059936523\n",
      "training loss epoch 78: 15.845312118530273\n",
      "training loss epoch 79: 15.745439529418945\n",
      "training loss epoch 80: 15.609451293945312\n",
      "Sample generated epoch80.\n",
      " Average time per epoch: 4.4134458065032955\n"
     ]
    },
    {
     "data": {
      "image/png": "[encoded data removed]",
      "text/plain": [
       "<Figure size 288x288 with 10 Axes>"
      ]
     },
     "metadata": {
      "needs_background": "light"
     },
     "output_type": "display_data"
    },
    {
     "name": "stdout",
     "output_type": "stream",
     "text": [
      "training loss epoch 81: 15.517965316772461\n",
      "training loss epoch 82: 15.45813274383545\n",
      "training loss epoch 83: 15.610004425048828\n",
      "training loss epoch 84: 15.759231567382812\n",
      "training loss epoch 85: 15.677264213562012\n",
      "training loss epoch 86: 15.545601844787598\n",
      "training loss epoch 87: 15.459298133850098\n",
      "training loss epoch 88: 15.3872709274292\n",
      "training loss epoch 89: 15.607141494750977\n",
      "training loss epoch 90: 15.696699142456055\n",
      "Sample generated epoch90.\n",
      " Average time per epoch: 4.3574649572372435\n"
     ]
    },
    {
     "data": {
      "image/png": "[encoded data removed]",
      "text/plain": [
       "<Figure size 288x288 with 10 Axes>"
      ]
     },
     "metadata": {
      "needs_background": "light"
     },
     "output_type": "display_data"
    },
    {
     "name": "stdout",
     "output_type": "stream",
     "text": [
      "training loss epoch 91: 15.652237892150879\n",
      "training loss epoch 92: 15.532198905944824\n",
      "training loss epoch 93: 15.822827339172363\n",
      "training loss epoch 94: 15.886720657348633\n",
      "training loss epoch 95: 15.993797302246094\n",
      "training loss epoch 96: 16.220901489257812\n",
      "training loss epoch 97: 16.165908813476562\n",
      "training loss epoch 98: 16.094554901123047\n",
      "training loss epoch 99: 16.033727645874023\n",
      "training loss epoch 100: 15.985162734985352\n",
      "Sample generated epoch100.\n",
      " Average time per epoch: 4.291508746147156\n"
     ]
    },
    {
     "data": {
      "image/png": "[encoded data removed]",
      "text/plain": [
       "<Figure size 288x288 with 10 Axes>"
      ]
     },
     "metadata": {
      "needs_background": "light"
     },
     "output_type": "display_data"
    }
   ],
   "source": [
    "start_time = time.time()\n",
    "for epoch in range(1,101):\n",
    "    for image,label in iter(dataset):\n",
    "        train_step(image,label)\n",
    "    with train_summary_writer.as_default():\n",
    "        tf.summary.scalar('loss', train_loss.result(), step=epoch)\n",
    "    print(\"training loss epoch {}: {}\".format(epoch,train_loss.result()))\n",
    "    if epoch % 10==0:\n",
    "        image_name = 'epoch{}_samples.png'.format(epoch)\n",
    "        print(\"Sample generated epoch{}.\\n Average time per epoch: {}\".format(epoch,(time.time()-start_time)/10))\n",
    "        cvae.generate(np.arange(10),save = True, image_name = image_name)\n",
    "        start_time = time.time()\n",
    "    train_loss.reset_states()"
   ]
  },
  {
   "cell_type": "code",
   "execution_count": null,
   "metadata": {},
   "outputs": [],
   "source": []
  }
 ],
 "metadata": {
  "kernelspec": {
   "display_name": "Python 3",
   "language": "python",
   "name": "python3"
  },
  "language_info": {
   "codemirror_mode": {
    "name": "ipython",
    "version": 3
   },
   "file_extension": ".py",
   "mimetype": "text/x-python",
   "name": "python",
   "nbconvert_exporter": "python",
   "pygments_lexer": "ipython3",
   "version": "3.7.4"
  }
 },
 "nbformat": 4,
 "nbformat_minor": 2
}
